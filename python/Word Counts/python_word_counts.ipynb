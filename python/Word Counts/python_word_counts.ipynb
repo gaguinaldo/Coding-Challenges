{
 "cells": [
  {
   "cell_type": "markdown",
   "metadata": {},
   "source": [
    "Develop a function that takes a string and does a word count for each word in the string.\n",
    "Store the number of times each word appears in the string in a dictionary."
   ]
  },
  {
   "cell_type": "code",
   "execution_count": 15,
   "metadata": {},
   "outputs": [],
   "source": [
    "def token(string_input):\n",
    "    token = string_input.lower().split(' ')\n",
    "    dict_unique = {}\n",
    "    for each_token in token:\n",
    "        if each_token in dict_unique:\n",
    "            dict_unique[each_token] += 1\n",
    "        else:\n",
    "            dict_unique[each_token] = 1\n",
    "    return dict_unique"
   ]
  },
  {
   "cell_type": "code",
   "execution_count": 16,
   "metadata": {},
   "outputs": [
    {
     "data": {
      "text/plain": [
       "{'aguinaldo.': 1,\n",
       " 'grant': 2,\n",
       " 'is': 2,\n",
       " 'my': 2,\n",
       " 'name': 2,\n",
       " 'name.?': 1,\n",
       " 'what': 1,\n",
       " 'your': 1}"
      ]
     },
     "execution_count": 16,
     "metadata": {},
     "output_type": "execute_result"
    }
   ],
   "source": [
    "token('My name is Grant grant Aguinaldo. What is your name my name.?')"
   ]
  },
  {
   "cell_type": "code",
   "execution_count": 27,
   "metadata": {},
   "outputs": [],
   "source": [
    "#https://stackoverflow.com/questions/2068349/understanding-get-method-in-python\n",
    "\n",
    "def count_string(token):\n",
    "    token_list = token.split(' ')\n",
    "    count = {}\n",
    "    for each in token_list:\n",
    "        count[each] = count.get(each, 0) + 1\n",
    "    return count"
   ]
  },
  {
   "cell_type": "code",
   "execution_count": 28,
   "metadata": {},
   "outputs": [
    {
     "data": {
      "text/plain": [
       "{'Aguinaldo.': 1,\n",
       " 'Grant': 1,\n",
       " 'My': 1,\n",
       " 'What': 1,\n",
       " 'grant': 1,\n",
       " 'is': 2,\n",
       " 'my': 1,\n",
       " 'name': 2,\n",
       " 'name.?': 1,\n",
       " 'your': 1}"
      ]
     },
     "execution_count": 28,
     "metadata": {},
     "output_type": "execute_result"
    }
   ],
   "source": [
    "count_string('My name is Grant grant Aguinaldo. What is your name my name.?')"
   ]
  },
  {
   "cell_type": "code",
   "execution_count": null,
   "metadata": {
    "collapsed": true
   },
   "outputs": [],
   "source": []
  }
 ],
 "metadata": {
  "kernelspec": {
   "display_name": "Python 3",
   "language": "python",
   "name": "python3"
  },
  "language_info": {
   "codemirror_mode": {
    "name": "ipython",
    "version": 3
   },
   "file_extension": ".py",
   "mimetype": "text/x-python",
   "name": "python",
   "nbconvert_exporter": "python",
   "pygments_lexer": "ipython3",
   "version": "3.6.3"
  }
 },
 "nbformat": 4,
 "nbformat_minor": 2
}
