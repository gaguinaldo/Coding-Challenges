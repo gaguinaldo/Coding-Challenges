{
 "cells": [
  {
   "cell_type": "markdown",
   "metadata": {},
   "source": [
    "## First and Last Indices of an Element in a Sorted Array\n",
    "\n",
    "Given a sorted array, A, with possibly duplicated elements, find the indices of the first and last occurrences of a target element, x. Return -1 if the target is not found.\n",
    "\n",
    "#### Example:\n",
    "```\n",
    "Input: A = [1,3,3,5,7,8,9,9,9,15], target = 9\n",
    "Output: [6,8]\n",
    "\n",
    "Input: A = [100, 150, 150, 153], target = 150\n",
    "Output: [1,2]\n",
    "\n",
    "Input: A = [1,2,3,4,5,6,10], target = 9\n",
    "Output: [-1, -1]\n",
    "Here is a function signature example:\n",
    "\n",
    "class Solution: \n",
    "  def getRange(self, arr, target):\n",
    "    # Fill this in.\n",
    "```\n",
    "\n",
    "#### Test program: \n",
    "```\n",
    "arr = [1, 2, 2, 2, 2, 3, 4, 7, 8, 8] \n",
    "x = 2\n",
    "print(Solution().getRange(arr, x))\n",
    "[1, 4]\n",
    "```"
   ]
  },
  {
   "cell_type": "code",
   "execution_count": null,
   "metadata": {},
   "outputs": [],
   "source": [
    "import numpy as np"
   ]
  },
  {
   "cell_type": "code",
   "execution_count": null,
   "metadata": {},
   "outputs": [],
   "source": [
    "#Finds the first postion of the element in the sorted list. \n",
    "np.searchsorted([100, 150, 150, 153], 150, side='left')"
   ]
  },
  {
   "cell_type": "code",
   "execution_count": null,
   "metadata": {},
   "outputs": [],
   "source": [
    "np.searchsorted([100, 150, 150, 153], 150, side='right')-1"
   ]
  },
  {
   "cell_type": "code",
   "execution_count": null,
   "metadata": {},
   "outputs": [],
   "source": [
    "(150 in [100, 150, 150, 153])"
   ]
  },
  {
   "cell_type": "code",
   "execution_count": null,
   "metadata": {},
   "outputs": [],
   "source": [
    "import numpy as np\n",
    "\n",
    "def solution(arr, target):\n",
    "    '''\n",
    "    https://docs.scipy.org/doc/numpy-1.13.0/reference/generated/numpy.searchsorted.html#numpy.searchsorted\n",
    "    '''\n",
    "    \n",
    "    if target not in arr:\n",
    "        return [-1, -1]\n",
    "    else:\n",
    "        return [np.searchsorted(arr, target, side='left'), \n",
    "                np.searchsorted(arr, target, side='right')-1]"
   ]
  },
  {
   "cell_type": "code",
   "execution_count": null,
   "metadata": {},
   "outputs": [],
   "source": [
    "solution(arr = [1, 2, 2, 2, 2, 3, 4, 7, 8, 8], target=2)"
   ]
  },
  {
   "cell_type": "code",
   "execution_count": null,
   "metadata": {},
   "outputs": [],
   "source": [
    "class Solution:\n",
    "    '''\n",
    "    https://docs.scipy.org/doc/numpy-1.13.0/reference/generated/numpy.searchsorted.html#numpy.searchsorted\n",
    "    '''\n",
    "    \n",
    "    def __init__(self, arr, target):\n",
    "        self.arr = arr\n",
    "        self.target = target\n",
    "    \n",
    "    def getRange(self):\n",
    "        if self.target not in self.arr:\n",
    "            return [-1, -1]\n",
    "        else:\n",
    "            return [np.searchsorted(self.arr, self.target, side='left'), \n",
    "                    np.searchsorted(self.arr, self.target, side='right')-1]"
   ]
  },
  {
   "cell_type": "code",
   "execution_count": null,
   "metadata": {},
   "outputs": [],
   "source": [
    "Solution(arr = [1, 2, 2, 2, 2, 3, 4, 7, 8, 8], target=2).getRange()"
   ]
  },
  {
   "cell_type": "code",
   "execution_count": null,
   "metadata": {},
   "outputs": [],
   "source": [
    "import numpy as np\n",
    "\n",
    "class Solution:\n",
    "    '''\n",
    "    https://docs.scipy.org/doc/numpy-1.13.0/reference/generated/numpy.searchsorted.html#numpy.searchsorted\n",
    "    '''\n",
    "    \n",
    "    def getRange(self, arr, target):\n",
    "        if target not in arr:\n",
    "            return [-1, -1]\n",
    "        else:\n",
    "            return [np.searchsorted(arr, target, side='left'), \n",
    "                    np.searchsorted(arr, target, side='right')-1]"
   ]
  },
  {
   "cell_type": "code",
   "execution_count": null,
   "metadata": {},
   "outputs": [],
   "source": [
    "arr = [1, 2, 2, 2, 2, 3, 4, 7, 8, 8] \n",
    "x = 2\n",
    "Solution().getRange(arr, x)"
   ]
  },
  {
   "cell_type": "code",
   "execution_count": null,
   "metadata": {},
   "outputs": [],
   "source": [
    "arr = [1, 3, 3, 5, 7, 8, 9, 9, 9, 15]\n",
    "x = 9\n",
    "Solution().getRange(arr, x)"
   ]
  },
  {
   "cell_type": "code",
   "execution_count": null,
   "metadata": {},
   "outputs": [],
   "source": [
    "arr = [100, 150, 150, 153]\n",
    "x = 150\n",
    "Solution().getRange(arr, x)"
   ]
  },
  {
   "cell_type": "code",
   "execution_count": null,
   "metadata": {},
   "outputs": [],
   "source": [
    "arr = [1, 2, 3, 4, 5, 6, 10]\n",
    "x = 9\n",
    "Solution().getRange(arr, x)"
   ]
  }
 ],
 "metadata": {
  "kernelspec": {
   "display_name": "Python 3",
   "language": "python",
   "name": "python3"
  },
  "language_info": {
   "codemirror_mode": {
    "name": "ipython",
    "version": 3
   },
   "file_extension": ".py",
   "mimetype": "text/x-python",
   "name": "python",
   "nbconvert_exporter": "python",
   "pygments_lexer": "ipython3",
   "version": "3.7.4"
  }
 },
 "nbformat": 4,
 "nbformat_minor": 2
}
