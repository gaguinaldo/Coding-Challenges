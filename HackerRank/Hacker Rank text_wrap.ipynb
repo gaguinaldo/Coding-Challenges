{
 "cells": [
  {
   "cell_type": "code",
   "execution_count": 1,
   "metadata": {
    "collapsed": true
   },
   "outputs": [],
   "source": [
    "#https://www.hackerrank.com/challenges/text-wrap/problem\n",
    "\n",
    "name_string = 'GrantAguinaldo'\n",
    "width = 4"
   ]
  },
  {
   "cell_type": "code",
   "execution_count": 2,
   "metadata": {},
   "outputs": [
    {
     "data": {
      "text/plain": [
       "4"
      ]
     },
     "execution_count": 2,
     "metadata": {},
     "output_type": "execute_result"
    }
   ],
   "source": [
    "(len(name_string) + width - 1) // width"
   ]
  },
  {
   "cell_type": "code",
   "execution_count": 3,
   "metadata": {},
   "outputs": [
    {
     "name": "stdout",
     "output_type": "stream",
     "text": [
      "GRAN\n",
      "TAGU\n",
      "INAL\n",
      "DO\n",
      "\n",
      "\n"
     ]
    }
   ],
   "source": [
    "print(name_string[0:4].upper())\n",
    "print(name_string[4:8].upper())\n",
    "print(name_string[8:12].upper())\n",
    "print(name_string[12:16].upper())\n",
    "print(name_string[16:20].upper())\n",
    "print(name_string[20:24].upper())\n",
    "\n",
    "#Loop the six times."
   ]
  },
  {
   "cell_type": "code",
   "execution_count": 4,
   "metadata": {},
   "outputs": [
    {
     "name": "stdout",
     "output_type": "stream",
     "text": [
      "GRAN\n",
      "TAGU\n",
      "INAL\n",
      "DO\n"
     ]
    }
   ],
   "source": [
    "name_string = 'GrantAguinaldo'\n",
    "cnt = 0\n",
    "window = 4\n",
    "ceil = (len(name_string) + window - 1) // window\n",
    "for each in range(ceil):\n",
    "    cnt = cnt + window\n",
    "    end = cnt\n",
    "    start = cnt - window\n",
    "    print(name_string[start:end].upper())"
   ]
  },
  {
   "cell_type": "code",
   "execution_count": 5,
   "metadata": {
    "collapsed": true
   },
   "outputs": [],
   "source": [
    "def text_wrap(window, name_string, cap):\n",
    "    cntr = 0\n",
    "    ceil = (len(name_string) + window - 1) // window\n",
    "    \n",
    "    for each in range(ceil):\n",
    "        cntr = cntr + window\n",
    "        end = cntr\n",
    "        start = cntr - window\n",
    "        if cap == True:\n",
    "            print(name_string[start:end].upper())\n",
    "        if cap == False:\n",
    "            print(name_string[start:end])"
   ]
  },
  {
   "cell_type": "code",
   "execution_count": 6,
   "metadata": {},
   "outputs": [
    {
     "name": "stdout",
     "output_type": "stream",
     "text": [
      "GRANT\n",
      "AGUIN\n",
      "ALDOA\n",
      "NDAND\n",
      "IE\n"
     ]
    }
   ],
   "source": [
    "text_wrap(5, 'GrantAguinaldoandAndie', cap=True)"
   ]
  },
  {
   "cell_type": "code",
   "execution_count": 7,
   "metadata": {
    "collapsed": true
   },
   "outputs": [],
   "source": [
    "class Text:\n",
    "    '''\n",
    "    window: Int. Size of the window used to wrap the text string.\n",
    "    name_string: Str. The string that is being wrapped.\n",
    "    cap: Bool (True/False). Flag that indicates if you want \n",
    "         the wrapped text to be captialized.\n",
    "    '''\n",
    "    \n",
    "    def __init__(self, window, name_string, cap):\n",
    "        self.window = window\n",
    "        self.name_string = name_string\n",
    "        self.cap = cap\n",
    "    \n",
    "    def wrap(self):\n",
    "        self.cntr = 0\n",
    "        self.ceil = (len(self.name_string) + self.window - 1) // self.window\n",
    "    \n",
    "        for each in range(self.ceil):\n",
    "            self.cntr = self.cntr + self.window\n",
    "            end = self.cntr\n",
    "            start = self.cntr - self.window\n",
    "            \n",
    "            if self.cap == True:\n",
    "                print(self.name_string[start:end].upper())\n",
    "            if self.cap == False:\n",
    "                print(self.name_string[start:end])"
   ]
  },
  {
   "cell_type": "code",
   "execution_count": 8,
   "metadata": {},
   "outputs": [
    {
     "name": "stdout",
     "output_type": "stream",
     "text": [
      "GRANT\n",
      "AGUIN\n",
      "ALDOA\n",
      "NDAND\n",
      "IE\n"
     ]
    }
   ],
   "source": [
    "test_string = Text(window=5, name_string='GrantAguinaldoandAndie', cap=True)\n",
    "test_string.wrap()"
   ]
  },
  {
   "cell_type": "code",
   "execution_count": null,
   "metadata": {
    "collapsed": true
   },
   "outputs": [],
   "source": []
  }
 ],
 "metadata": {
  "kernelspec": {
   "display_name": "Python 3",
   "language": "python",
   "name": "python3"
  },
  "language_info": {
   "codemirror_mode": {
    "name": "ipython",
    "version": 3
   },
   "file_extension": ".py",
   "mimetype": "text/x-python",
   "name": "python",
   "nbconvert_exporter": "python",
   "pygments_lexer": "ipython3",
   "version": "3.6.8"
  }
 },
 "nbformat": 4,
 "nbformat_minor": 2
}
