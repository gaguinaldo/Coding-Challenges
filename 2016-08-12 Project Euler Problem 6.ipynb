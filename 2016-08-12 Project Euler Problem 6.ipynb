{
 "cells": [
  {
   "cell_type": "code",
   "execution_count": 19,
   "metadata": {
    "collapsed": false
   },
   "outputs": [
    {
     "data": {
      "text/plain": [
       "25164150"
      ]
     },
     "execution_count": 19,
     "metadata": {},
     "output_type": "execute_result"
    }
   ],
   "source": [
    "sum_of_squares = [ ]\n",
    "square_of_sum = []\n",
    "\n",
    "for num1 in range(1, 100+1, 1):\n",
    "    sum_of_squares.append(num1 ** 2)\n",
    "    \n",
    "for num2 in range(0, 100+1, 1):\n",
    "    square_of_sum.append(num2)\n",
    "\n",
    "a = sum(sum_of_squares)\n",
    "\n",
    "b = sum(square_of_sum)\n",
    "\n",
    "c = b ** 2\n",
    "\n",
    "d = c - a\n",
    "\n",
    "d"
   ]
  },
  {
   "cell_type": "code",
   "execution_count": null,
   "metadata": {
    "collapsed": true
   },
   "outputs": [],
   "source": []
  }
 ],
 "metadata": {
  "kernelspec": {
   "display_name": "Python [conda root]",
   "language": "python",
   "name": "conda-root-py"
  },
  "language_info": {
   "codemirror_mode": {
    "name": "ipython",
    "version": 3
   },
   "file_extension": ".py",
   "mimetype": "text/x-python",
   "name": "python",
   "nbconvert_exporter": "python",
   "pygments_lexer": "ipython3",
   "version": "3.5.2"
  }
 },
 "nbformat": 4,
 "nbformat_minor": 0
}
