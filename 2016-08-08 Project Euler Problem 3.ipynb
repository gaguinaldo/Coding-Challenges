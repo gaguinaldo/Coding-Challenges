{
 "cells": [
  {
   "cell_type": "markdown",
   "metadata": {},
   "source": [
    "# Project Euler Problem 3\n",
    "\n",
    "The prime factors of 13195 are 5, 7, 13 and 29.\n",
    "\n",
    "What is the largest prime factor of the number 600851475143 ?\n",
    "\n",
    "## Approach\n",
    "\n",
    "+Find all factors of 600,851,475,143 and store in list_1.\n",
    "\n",
    "+Go through list and determine what numbers are prime and store in list_2.\n",
    "\n",
    "+Find the largest value in list_2 and return respective value."
   ]
  },
  {
   "cell_type": "code",
   "execution_count": 28,
   "metadata": {
    "collapsed": false
   },
   "outputs": [
    {
     "data": {
      "text/plain": [
       "[1, 5, 7, 13, 29, 35, 65, 91, 145, 203, 377, 455, 1015, 1885, 2639]"
      ]
     },
     "execution_count": 28,
     "metadata": {},
     "output_type": "execute_result"
    }
   ],
   "source": [
    "test_nums = 13195 \n",
    "fac_nums = []\n",
    "\n",
    "\n",
    "#Determines factors of test_nums and stores in a list called fac_nums.\n",
    "\n",
    "for num in range(1, test_num, 1):\n",
    "    if test_nums % num == 0:\n",
    "        fac_nums.append(num)\n",
    "fac_nums\n",
    "\n"
   ]
  },
  {
   "cell_type": "code",
   "execution_count": 40,
   "metadata": {
    "collapsed": false
   },
   "outputs": [
    {
     "data": {
      "text/plain": [
       "[1, 71, 839, 1471, 6857]"
      ]
     },
     "execution_count": 40,
     "metadata": {},
     "output_type": "execute_result"
    }
   ],
   "source": [
    "test_nums = 600851475143\n",
    "fac_nums = []\n",
    "\n",
    "#Determines factors of test_nums and stores in a list called fac_nums.\n",
    "\n",
    "for num in range(1, test_num, 1):\n",
    "    if test_nums % num == 0:\n",
    "        fac_nums.append(num)\n",
    "fac_nums\n",
    "\n",
    "#How to determine which elements in a list are prime and store in another list.\n",
    "\n",
    "#Once the list of prime factors is stored, then determine the max of the factors in that list. "
   ]
  },
  {
   "cell_type": "code",
   "execution_count": null,
   "metadata": {
    "collapsed": true
   },
   "outputs": [],
   "source": [
    "#Write a function that determines if a number if prime or not. "
   ]
  }
 ],
 "metadata": {
  "anaconda-cloud": {},
  "kernelspec": {
   "display_name": "Python [conda root]",
   "language": "python",
   "name": "conda-root-py"
  },
  "language_info": {
   "codemirror_mode": {
    "name": "ipython",
    "version": 3
   },
   "file_extension": ".py",
   "mimetype": "text/x-python",
   "name": "python",
   "nbconvert_exporter": "python",
   "pygments_lexer": "ipython3",
   "version": "3.5.2"
  }
 },
 "nbformat": 4,
 "nbformat_minor": 0
}
